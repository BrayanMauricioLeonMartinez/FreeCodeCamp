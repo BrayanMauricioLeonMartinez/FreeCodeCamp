{
 "cells": [
  {
   "cell_type": "code",
   "execution_count": 3,
   "metadata": {},
   "outputs": [
    {
     "name": "stdout",
     "output_type": "stream",
     "text": [
      "Todo desde lo basico hasta lo mas avanzado...    favor leer todo en orden para recordar\n"
     ]
    }
   ],
   "source": [
    "print(\"Todo desde lo basico hasta lo mas avanzado...    favor leer todo en orden para recordar\")"
   ]
  },
  {
   "cell_type": "code",
   "execution_count": 1,
   "metadata": {},
   "outputs": [
    {
     "name": "stdout",
     "output_type": "stream",
     "text": [
      "el resultado es:  3.3\n"
     ]
    }
   ],
   "source": [
    "numero = 1+2.3\n",
    "print(\"el resultado es: \" , numero)"
   ]
  },
  {
   "cell_type": "code",
   "execution_count": 2,
   "metadata": {},
   "outputs": [
    {
     "name": "stdout",
     "output_type": "stream",
     "text": [
      "un texto\n"
     ]
    }
   ],
   "source": [
    "texto = \"un texto\"\n",
    "print(texto)"
   ]
  },
  {
   "cell_type": "code",
   "execution_count": 26,
   "metadata": {},
   "outputs": [
    {
     "name": "stdout",
     "output_type": "stream",
     "text": [
      "ingrese un numero menor a 10 2\n",
      "muy bien, tu numero es:  2\n",
      "while 3\n",
      "IF\n",
      "2\n",
      "4\n",
      "6 <-result\n"
     ]
    }
   ],
   "source": [
    "def suma(x,y):\n",
    "    entrada = input(\"ingrese un numero menor a 10 \")\n",
    "    if float(entrada) < 10 : \n",
    "        print(\"muy bien, tu numero es: \", entrada)\n",
    "    while((x*2-2)<y):\n",
    "        x = x+2\n",
    "        print(\"while\", x)\n",
    "    if(x > y):\n",
    "        print(\"IF\")\n",
    "    for x in range(2, 5, 2):  #(inicio, fin-1, saltos)\n",
    "        print(x)\n",
    "        \n",
    "    return x+y\n",
    "print(suma(1,2), \"<-result\")"
   ]
  },
  {
   "cell_type": "code",
   "execution_count": 4,
   "metadata": {},
   "outputs": [
    {
     "name": "stdout",
     "output_type": "stream",
     "text": [
      "0  1  2  3  4  5  6  "
     ]
    }
   ],
   "source": [
    "arreglo = [0,1,2,3,4,5,6,7,8,9,10]\n",
    "for  i in arreglo:\n",
    "    if i > 6:\n",
    "        break   \n",
    "    print(i, \" \", end = \"\")"
   ]
  },
  {
   "cell_type": "code",
   "execution_count": 23,
   "metadata": {},
   "outputs": [
    {
     "name": "stdout",
     "output_type": "stream",
     "text": [
      "True\n",
      "ey y\n",
      "EY YOU\n",
      "2\n",
      "hel lou\n",
      "7\n"
     ]
    }
   ],
   "source": [
    "print(\"0.0\" is \"0.0\")\n",
    "letras = \"hey you\" # string son objetos\n",
    "print(letras[1:5].lower())\n",
    "type(letras)\n",
    "#dir(letras)\n",
    "print(letras[1:].upper())\n",
    "print(letras[0:].find(\"y\"))\n",
    "letras = letras.replace(\"y\", \"l\")\n",
    "print(letras)\n",
    "print(len(letras))"
   ]
  },
  {
   "cell_type": "code",
   "execution_count": 1,
   "metadata": {},
   "outputs": [
    {
     "name": "stdout",
     "output_type": "stream",
     "text": [
      "<_io.TextIOWrapper name='testDocument.txt' mode='r' encoding='UTF-8'>\n",
      "U can do whatever u want\n",
      "Un texto argumentativo es aquel que tiene como fin o bien persuadir al destinatario del punto de vista que se tiene sobre un asunto, o bien convencerlo de la falsedad de una opinión previa (refutación), para lo cual le aporta determinadas razones.\n",
      " <-\n"
     ]
    }
   ],
   "source": [
    "#files\n",
    "try:\n",
    "    opening = open(\"testDocument.txt\")\n",
    "    print(opening)\n",
    "    for linea in opening:\n",
    "        if linea.startswith(\"U\"):\n",
    "            print(linea, end =\"\")\n",
    "        \n",
    "    reading = opening.read()\n",
    "    print(reading[:14] , \"<-\")\n",
    "except:\n",
    "    print(\"sorry u couldnt open this file\")\n",
    "    #quit()"
   ]
  },
  {
   "cell_type": "code",
   "execution_count": 33,
   "metadata": {},
   "outputs": [
    {
     "name": "stdout",
     "output_type": "stream",
     "text": [
      "[11, 2, 3, 9]\n",
      "3\n",
      "True\n",
      "['uno', 'dos', 'tres']\n"
     ]
    }
   ],
   "source": [
    "#list\n",
    "arreglos = [1, 2, 3, 9]\n",
    "arreglos[0] = 11\n",
    "print (arreglos)\n",
    "print(len(arreglos[1:]))\n",
    "arreglos.append(11)\n",
    "print(11 in arreglos)\n",
    "arreglos.sort()# max min sum len\n",
    "\n",
    "string = \"uno dos tres\"\n",
    "partir = string.split(\" \")\n",
    "print(partir)"
   ]
  },
  {
   "cell_type": "code",
   "execution_count": 113,
   "metadata": {},
   "outputs": [
    {
     "name": "stdout",
     "output_type": "stream",
     "text": [
      "22\n",
      "True\n",
      "{'uno': 1, 'dos': 22, 'tres': 3, 'cuatro': 0}\n",
      "{'de': 3}\n"
     ]
    }
   ],
   "source": [
    "#ditionaries\n",
    "diccionario = {'uno': 1, 'dos':2}\n",
    "diccionario[\"tres\"] = 3\n",
    "diccionario[\"dos\"] = 22\n",
    "print(diccionario[\"dos\"])\n",
    "print(\"dos\" in diccionario)\n",
    "diccionario['cuatro'] = diccionario.get('cuatro',0)##\n",
    "print(diccionario)\n",
    "\n",
    "#ejemplo\n",
    "try:\n",
    "    arr = open(\"testDocument.txt\")\n",
    "except:\n",
    "    print(\"fallo\")\n",
    "    \n",
    "lista = arr.read().split() \n",
    "dicc = {}\n",
    "keyMayor = None\n",
    "valorMayor = None\n",
    "\n",
    "for palabra in lista:\n",
    "    dicc[palabra] = dicc.get(palabra, 0) + 1\n",
    "#print(dicc)\n",
    "\n",
    "for key,value in dicc.items(): \n",
    "    if valorMayor is None or valorMayor < value:\n",
    "        valorMayor = value\n",
    "        keyMayor = key\n",
    "mayor = {keyMayor: valorMayor}\n",
    "print(mayor)\n",
    "\n",
    "\n",
    "            "
   ]
  },
  {
   "cell_type": "code",
   "execution_count": 4,
   "metadata": {},
   "outputs": [
    {
     "name": "stdout",
     "output_type": "stream",
     "text": [
      "[('c', 3), ('b', 2), ('a', 1)]\n"
     ]
    }
   ],
   "source": [
    "#tuplas\n",
    "lst = []\n",
    "counts = {1:'a',2:'b',3:'c'}\n",
    "for key, val in counts.items():\n",
    "    newtup = (val, key)\n",
    "    lst.append(newtup)\n",
    "lst = sorted(lst, reverse=True)\n",
    "print(lst)"
   ]
  },
  {
   "cell_type": "code",
   "execution_count": 4,
   "metadata": {},
   "outputs": [
    {
     "name": "stdout",
     "output_type": "stream",
     "text": [
      "<re.Match object; span=(0, 9), match='A message'> \n",
      " ['cse4v@umich.edu', 'cwen@iupui.edu']\n"
     ]
    }
   ],
   "source": [
    "#regex\n",
    "import re\n",
    "mensaje = 'A message from cse4v@umich.edu to cwen@iupui.edu about meeting @2PM'\n",
    "search = re.search('^A (message)',mensaje)\n",
    "lst = re.findall('\\s(\\S+@\\S+|[0-9])', mensaje)\n",
    "print(search, '\\n', lst)"
   ]
  },
  {
   "cell_type": "raw",
   "metadata": {},
   "source": [
    "import socket\n",
    "mysock = socket.socket(socket.AF_INET, socket.SOCK_STREAM)\n",
    "mysock.connect(('data.pr4e.org',80))"
   ]
  },
  {
   "cell_type": "code",
   "execution_count": 3,
   "metadata": {},
   "outputs": [
    {
     "name": "stdout",
     "output_type": "stream",
     "text": [
      "HTTP/1.1 200 OK\r\n",
      "Date: Fri, 04 Feb 2022 05:12:36 GMT\r\n",
      "Server: Apache/2.4.18 (Ubuntu)\r\n",
      "Last-Modified: Sat, 13 May 2017 11:22:22 GMT\r\n",
      "ETag: \"a7-54f6609245537\"\r\n",
      "Accept-Ranges: bytes\r\n",
      "Content-Length: 167\r\n",
      "Cache-Control: max-age=0, no-cache, no-store, must-revalidate\r\n",
      "Pragma: no-cache\r\n",
      "Expires: Wed, 11 Jan 1984 05:00:00 GMT\r\n",
      "Connection: close\r\n",
      "Content-Type: text/plain\r\n",
      "\r\n",
      "But soft what light through yonder window breaks\n",
      "It is the east and Juliet is the sun\n",
      "Arise fair sun and kill the envious moon\n",
      "Who is already sick and pale with grief\n"
     ]
    }
   ],
   "source": [
    "import socket\n",
    "\n",
    "mysock = socket.socket(socket.AF_INET, socket.SOCK_STREAM)\n",
    "mysock.connect(('data.pr4e.org', 80))\n",
    "cmd = 'GET http://data.pr4e.org/romeo.txt HTTP/1.0\\r\\n\\r\\n'.encode()\n",
    "mysock.send(cmd)\n",
    "\n",
    "while True:\n",
    "    data = mysock.recv(512)\n",
    "    if len(data) < 1:\n",
    "        break\n",
    "    print(data.decode(),end='')\n",
    "mysock.close()"
   ]
  },
  {
   "cell_type": "code",
   "execution_count": 10,
   "metadata": {},
   "outputs": [
    {
     "name": "stdout",
     "output_type": "stream",
     "text": [
      "But soft what light through yonder window breaks\n",
      "It is the east and Juliet is the sun\n",
      "Arise fair sun and kill the envious moon\n",
      "Who is already sick and pale with grief\n"
     ]
    }
   ],
   "source": [
    "import urllib.request\n",
    "fhand = urllib.request.urlopen('http://data.pr4e.org/romeo.txt')\n",
    "for line in fhand:\n",
    "    print(line.decode().strip())"
   ]
  },
  {
   "cell_type": "code",
   "execution_count": null,
   "metadata": {},
   "outputs": [],
   "source": []
  }
 ],
 "metadata": {
  "kernelspec": {
   "display_name": "Python 3",
   "language": "python",
   "name": "python3"
  },
  "language_info": {
   "codemirror_mode": {
    "name": "ipython",
    "version": 3
   },
   "file_extension": ".py",
   "mimetype": "text/x-python",
   "name": "python",
   "nbconvert_exporter": "python",
   "pygments_lexer": "ipython3",
   "version": "3.7.3"
  }
 },
 "nbformat": 4,
 "nbformat_minor": 2
}
