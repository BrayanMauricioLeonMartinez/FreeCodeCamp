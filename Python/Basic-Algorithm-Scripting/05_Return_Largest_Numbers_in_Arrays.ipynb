{
 "cells": [
  {
   "cell_type": "code",
   "execution_count": 38,
   "metadata": {},
   "outputs": [
    {
     "data": {
      "text/plain": [
       "[27, 59, 39, 1001]"
      ]
     },
     "execution_count": 38,
     "metadata": {},
     "output_type": "execute_result"
    }
   ],
   "source": [
    "arr = [[13, 27, 18, 26], [4, 59, 1, 3], [32, 35, 37, 39], [1000, 1001, 857, 1]]\n",
    "class operacion:\n",
    "    maximos = []\n",
    "    def seleccion(self, arr):\n",
    "        for item in arr:\n",
    "            obj = item[0]\n",
    "            for i in item:\n",
    "                if(i > obj):\n",
    "                    obj = i\n",
    "            self.maximos.append(obj)\n",
    "        return self.maximos\n",
    "\n",
    "\n",
    "show = operacion()\n",
    "show.seleccion(arr)"
   ]
  }
 ],
 "metadata": {
  "kernelspec": {
   "display_name": "Python 3",
   "language": "python",
   "name": "python3"
  },
  "language_info": {
   "codemirror_mode": {
    "name": "ipython",
    "version": 3
   },
   "file_extension": ".py",
   "mimetype": "text/x-python",
   "name": "python",
   "nbconvert_exporter": "python",
   "pygments_lexer": "ipython3",
   "version": "3.7.3"
  }
 },
 "nbformat": 4,
 "nbformat_minor": 2
}
