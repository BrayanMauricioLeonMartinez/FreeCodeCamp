{
 "cells": [
  {
   "cell_type": "code",
   "execution_count": 45,
   "metadata": {},
   "outputs": [
    {
     "name": "stdout",
     "output_type": "stream",
     "text": [
      "overdddd\n",
      "8\n"
     ]
    }
   ],
   "source": [
    "word = \"The quick brown fox jumped overdddd the lazy dog\"\n",
    "import functools\n",
    "class operacion:\n",
    "    def __init__(self):\n",
    "        return\n",
    "    \n",
    "    def find(self, str):\n",
    "        print(functools.reduce(lambda a, b: self.compare(a,b), str.split()))\n",
    "        return len(functools.reduce(lambda a, b: self.compare(a,b), str.split()))\n",
    "    def compare(self, palabra, palabra1):\n",
    "        if(len(palabra)<len(palabra1)):\n",
    "            palabra = palabra1\n",
    "            return palabra1\n",
    "        else:\n",
    "            return palabra\n",
    "        \n",
    "\n",
    "palabra = operacion()\n",
    "print(palabra.find(word))\n"
   ]
  },
  {
   "cell_type": "code",
   "execution_count": 46,
   "metadata": {},
   "outputs": [
    {
     "name": "stdout",
     "output_type": "stream",
     "text": [
      "The sum of the list elements is : 17\n"
     ]
    }
   ],
   "source": [
    "import functools\n",
    " \n",
    "# initializing list\n",
    "lis = [1, 3, 5, 6, 2, ]\n",
    "\n",
    "# using reduce to compute sum of list lambda a, b: a+b   a es el acumulador\n",
    "print(\"The sum of the list elements is : \", end=\"\")\n",
    "print(functools.reduce(lambda a, b: a+b, lis))"
   ]
  }
 ],
 "metadata": {
  "kernelspec": {
   "display_name": "Python 3",
   "language": "python",
   "name": "python3"
  },
  "language_info": {
   "codemirror_mode": {
    "name": "ipython",
    "version": 3
   },
   "file_extension": ".py",
   "mimetype": "text/x-python",
   "name": "python",
   "nbconvert_exporter": "python",
   "pygments_lexer": "ipython3",
   "version": "3.7.3"
  }
 },
 "nbformat": 4,
 "nbformat_minor": 2
}
