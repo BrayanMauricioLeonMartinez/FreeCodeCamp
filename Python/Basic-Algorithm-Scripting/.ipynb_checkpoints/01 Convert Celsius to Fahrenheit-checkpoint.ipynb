{
 "cells": [
  {
   "cell_type": "code",
   "execution_count": 45,
   "metadata": {},
   "outputs": [
    {
     "name": "stdout",
     "output_type": "stream",
     "text": [
      "por favor escriba una temperatura: 21\n",
      "C:  21  F:  69.80000000000001\n"
     ]
    }
   ],
   "source": [
    "class convertir:\n",
    "    temperature = 0\n",
    "    def __init__(self,temperature):\n",
    "        self.temperature = temperature\n",
    "        \n",
    "    def convertCtoF(self):\n",
    "        print('C: ',self.temperature,' F: ', self.temperature * (9/5) + 32)\n",
    "    def convertFtoC(self):\n",
    "        print(' F: ', self.temperature, 'C: ', (self.temperature - 32) * (5/9))\n",
    "\n",
    "n = input('por favor escriba una temperatura: ')\n",
    "celsius = convertir(int(n)).convertCtoF() "
   ]
  },
  {
   "cell_type": "code",
   "execution_count": null,
   "metadata": {},
   "outputs": [],
   "source": []
  },
  {
   "cell_type": "code",
   "execution_count": null,
   "metadata": {},
   "outputs": [],
   "source": []
  }
 ],
 "metadata": {
  "kernelspec": {
   "display_name": "Python 3",
   "language": "python",
   "name": "python3"
  },
  "language_info": {
   "codemirror_mode": {
    "name": "ipython",
    "version": 3
   },
   "file_extension": ".py",
   "mimetype": "text/x-python",
   "name": "python",
   "nbconvert_exporter": "python",
   "pygments_lexer": "ipython3",
   "version": "3.7.3"
  }
 },
 "nbformat": 4,
 "nbformat_minor": 2
}
