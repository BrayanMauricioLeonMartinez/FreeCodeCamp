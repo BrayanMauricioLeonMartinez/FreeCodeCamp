{
 "cells": [
  {
   "cell_type": "code",
   "execution_count": 54,
   "metadata": {},
   "outputs": [
    {
     "name": "stdout",
     "output_type": "stream",
     "text": [
      "321\n"
     ]
    }
   ],
   "source": [
    "class reverse:\n",
    "    str = \"\"\n",
    "    strI = []\n",
    "    def __init__(self, str):\n",
    "        self.str = str\n",
    "        self.strI = [0 for x in range(0, len(str))]\n",
    "    \n",
    "    def reverse(self):\n",
    "        for index, letter in enumerate(self.str):\n",
    "            self.strI[len(self.str) - index - 1] = letter\n",
    "        return \"\".join(self.strI)\n",
    "reverse = reverse(\"123\")\n",
    "print(reverse.reverse())"
   ]
  },
  {
   "cell_type": "code",
   "execution_count": null,
   "metadata": {},
   "outputs": [],
   "source": []
  },
  {
   "cell_type": "code",
   "execution_count": null,
   "metadata": {},
   "outputs": [],
   "source": []
  }
 ],
 "metadata": {
  "kernelspec": {
   "display_name": "Python 3",
   "language": "python",
   "name": "python3"
  },
  "language_info": {
   "codemirror_mode": {
    "name": "ipython",
    "version": 3
   },
   "file_extension": ".py",
   "mimetype": "text/x-python",
   "name": "python",
   "nbconvert_exporter": "python",
   "pygments_lexer": "ipython3",
   "version": "3.7.3"
  }
 },
 "nbformat": 4,
 "nbformat_minor": 2
}
