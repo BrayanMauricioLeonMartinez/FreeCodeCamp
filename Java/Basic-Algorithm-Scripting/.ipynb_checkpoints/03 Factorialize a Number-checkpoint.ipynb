{
 "cells": [
  {
   "cell_type": "code",
   "execution_count": 8,
   "metadata": {},
   "outputs": [
    {
     "name": "stdout",
     "output_type": "stream",
     "text": [
      "120\n"
     ]
    }
   ],
   "source": [
    "class mat:\n",
    "    num = 0\n",
    "    def __init__(self, num):\n",
    "        self.num = 0\n",
    "    \n",
    "    def factorizide(self, factor):\n",
    "        if(factor == 1):\n",
    "            return 1\n",
    "        return factor * self.factorizide(factor -1)\n",
    "\n",
    "result = mat(0)\n",
    "print(result.factorizide(5))"
   ]
  },
  {
   "cell_type": "code",
   "execution_count": null,
   "metadata": {},
   "outputs": [],
   "source": []
  }
 ],
 "metadata": {
  "kernelspec": {
   "display_name": "Python 3",
   "language": "python",
   "name": "python3"
  },
  "language_info": {
   "codemirror_mode": {
    "name": "ipython",
    "version": 3
   },
   "file_extension": ".py",
   "mimetype": "text/x-python",
   "name": "python",
   "nbconvert_exporter": "python",
   "pygments_lexer": "ipython3",
   "version": "3.7.3"
  }
 },
 "nbformat": 4,
 "nbformat_minor": 2
}
